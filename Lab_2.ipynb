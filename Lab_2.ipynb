{
 "cells": [
  {
   "cell_type": "code",
   "execution_count": 1,
   "id": "97b87dd4-252d-48b7-b490-c8da4cff63b3",
   "metadata": {},
   "outputs": [
    {
     "name": "stdout",
     "output_type": "stream",
     "text": [
      "<class 'pandas.core.frame.DataFrame'>\n",
      "RangeIndex: 1289 entries, 0 to 1288\n",
      "Data columns (total 31 columns):\n",
      " #   Column              Non-Null Count  Dtype  \n",
      "---  ------              --------------  -----  \n",
      " 0   Id                  1289 non-null   object \n",
      " 1   ParsedOn            1289 non-null   object \n",
      " 2   Url                 1289 non-null   object \n",
      " 3   Name                1289 non-null   object \n",
      " 4   Price               1289 non-null   float64\n",
      " 5   IssueYear           1289 non-null   int64  \n",
      " 6   Generation          1289 non-null   object \n",
      " 7   Mileage             1077 non-null   float64\n",
      " 8   Pts                 638 non-null    object \n",
      " 9   OwnersByPts         1077 non-null   float64\n",
      " 10  State               1289 non-null   object \n",
      " 11  Modification        1289 non-null   object \n",
      " 12  Power               1288 non-null   float64\n",
      " 13  EngineCapacity      1282 non-null   float64\n",
      " 14  EngineType          1289 non-null   object \n",
      " 15  Transmission        1289 non-null   object \n",
      " 16  DriveUnit           1289 non-null   object \n",
      " 17  Equipment           952 non-null    object \n",
      " 18  BodyType            1173 non-null   object \n",
      " 19  Color               1289 non-null   object \n",
      " 20  SteeringWheel       1289 non-null   object \n",
      " 21  VinOrChassisNumber  1289 non-null   object \n",
      " 22  Exchange            908 non-null    object \n",
      " 23  AddressRaw          1286 non-null   object \n",
      " 24  LocationLatitude    1289 non-null   float64\n",
      " 25  LocationLongitude   1289 non-null   float64\n",
      " 26  AdditionalOptions   1289 non-null   object \n",
      " 27  CrawlerRatingMin    981 non-null    float64\n",
      " 28  CrawlerRatingMax    981 non-null    float64\n",
      " 29  SellerName          1070 non-null   object \n",
      " 30  SellerType          0 non-null      float64\n",
      "dtypes: float64(10), int64(1), object(20)\n",
      "memory usage: 312.3+ KB\n"
     ]
    },
    {
     "data": {
      "text/plain": [
       "(1289, 31)"
      ]
     },
     "metadata": {},
     "output_type": "display_data"
    },
    {
     "data": {
      "text/plain": [
       "Id                    False\n",
       "ParsedOn              False\n",
       "Url                   False\n",
       "Name                  False\n",
       "Price                 False\n",
       "IssueYear             False\n",
       "Generation            False\n",
       "Mileage                True\n",
       "Pts                    True\n",
       "OwnersByPts            True\n",
       "State                 False\n",
       "Modification          False\n",
       "Power                  True\n",
       "EngineCapacity         True\n",
       "EngineType            False\n",
       "Transmission          False\n",
       "DriveUnit             False\n",
       "Equipment              True\n",
       "BodyType               True\n",
       "Color                 False\n",
       "SteeringWheel         False\n",
       "VinOrChassisNumber    False\n",
       "Exchange               True\n",
       "AddressRaw             True\n",
       "LocationLatitude      False\n",
       "LocationLongitude     False\n",
       "AdditionalOptions     False\n",
       "CrawlerRatingMin       True\n",
       "CrawlerRatingMax       True\n",
       "SellerName             True\n",
       "SellerType             True\n",
       "dtype: bool"
      ]
     },
     "metadata": {},
     "output_type": "display_data"
    },
    {
     "data": {
      "text/plain": [
       "Id                    False\n",
       "ParsedOn              False\n",
       "Url                   False\n",
       "Name                  False\n",
       "Price                 False\n",
       "IssueYear             False\n",
       "Generation            False\n",
       "Mileage                True\n",
       "Pts                    True\n",
       "OwnersByPts           False\n",
       "State                 False\n",
       "Modification          False\n",
       "Power                  True\n",
       "EngineCapacity         True\n",
       "EngineType            False\n",
       "Transmission          False\n",
       "DriveUnit             False\n",
       "Equipment              True\n",
       "BodyType               True\n",
       "Color                 False\n",
       "SteeringWheel         False\n",
       "VinOrChassisNumber    False\n",
       "Exchange               True\n",
       "AddressRaw             True\n",
       "LocationLatitude      False\n",
       "LocationLongitude     False\n",
       "AdditionalOptions     False\n",
       "CrawlerRatingMin       True\n",
       "CrawlerRatingMax       True\n",
       "SellerName             True\n",
       "SellerType             True\n",
       "dtype: bool"
      ]
     },
     "metadata": {},
     "output_type": "display_data"
    },
    {
     "data": {
      "text/plain": [
       "OwnersByPts\n",
       "1.0    619\n",
       "2.0    242\n",
       "5.0    233\n",
       "3.0    195\n",
       "Name: count, dtype: int64"
      ]
     },
     "metadata": {},
     "output_type": "display_data"
    },
    {
     "data": {
      "text/plain": [
       "'Обучающая выборка: '"
      ]
     },
     "metadata": {},
     "output_type": "display_data"
    },
    {
     "data": {
      "text/plain": [
       "(773, 3)"
      ]
     },
     "metadata": {},
     "output_type": "display_data"
    },
    {
     "data": {
      "text/plain": [
       "OwnersByPts\n",
       "1.0    371\n",
       "2.0    145\n",
       "5.0    140\n",
       "3.0    117\n",
       "Name: count, dtype: int64"
      ]
     },
     "metadata": {},
     "output_type": "display_data"
    },
    {
     "data": {
      "text/plain": [
       "'Контрольная выборка: '"
      ]
     },
     "metadata": {},
     "output_type": "display_data"
    },
    {
     "data": {
      "text/plain": [
       "(258, 3)"
      ]
     },
     "metadata": {},
     "output_type": "display_data"
    },
    {
     "data": {
      "text/plain": [
       "OwnersByPts\n",
       "1.0    124\n",
       "2.0     49\n",
       "5.0     46\n",
       "3.0     39\n",
       "Name: count, dtype: int64"
      ]
     },
     "metadata": {},
     "output_type": "display_data"
    },
    {
     "data": {
      "text/plain": [
       "'Тестовая выборка: '"
      ]
     },
     "metadata": {},
     "output_type": "display_data"
    },
    {
     "data": {
      "text/plain": [
       "(258, 3)"
      ]
     },
     "metadata": {},
     "output_type": "display_data"
    },
    {
     "data": {
      "text/plain": [
       "OwnersByPts\n",
       "1.0    124\n",
       "2.0     48\n",
       "5.0     47\n",
       "3.0     39\n",
       "Name: count, dtype: int64"
      ]
     },
     "metadata": {},
     "output_type": "display_data"
    },
    {
     "data": {
      "text/plain": [
       "'Обучающая выборка: '"
      ]
     },
     "metadata": {},
     "output_type": "display_data"
    },
    {
     "data": {
      "text/plain": [
       "(773, 3)"
      ]
     },
     "metadata": {},
     "output_type": "display_data"
    },
    {
     "data": {
      "text/plain": [
       "OwnersByPts\n",
       "1.0    371\n",
       "2.0    145\n",
       "5.0    140\n",
       "3.0    117\n",
       "Name: count, dtype: int64"
      ]
     },
     "metadata": {},
     "output_type": "display_data"
    },
    {
     "data": {
      "text/plain": [
       "'Обучающая выборка после oversampling: '"
      ]
     },
     "metadata": {},
     "output_type": "display_data"
    },
    {
     "data": {
      "text/plain": [
       "(1453, 3)"
      ]
     },
     "metadata": {},
     "output_type": "display_data"
    },
    {
     "data": {
      "text/plain": [
       "OwnersByPts\n",
       "2.0    384\n",
       "1.0    371\n",
       "3.0    365\n",
       "5.0    333\n",
       "Name: count, dtype: int64"
      ]
     },
     "metadata": {},
     "output_type": "display_data"
    },
    {
     "data": {
      "text/plain": [
       "'Обучающая выборка после undersampling: '"
      ]
     },
     "metadata": {},
     "output_type": "display_data"
    },
    {
     "data": {
      "text/plain": [
       "(468, 3)"
      ]
     },
     "metadata": {},
     "output_type": "display_data"
    },
    {
     "data": {
      "text/plain": [
       "OwnersByPts\n",
       "1.0    117\n",
       "2.0    117\n",
       "3.0    117\n",
       "5.0    117\n",
       "Name: count, dtype: int64"
      ]
     },
     "metadata": {},
     "output_type": "display_data"
    }
   ],
   "source": [
    "import pandas as pd\n",
    "from typing import Dict, Tuple\n",
    "from pandas import DataFrame\n",
    "from sklearn.model_selection import train_test_split\n",
    "from imblearn.over_sampling import ADASYN\n",
    "from imblearn.under_sampling import RandomUnderSampler\n",
    "\n",
    "def split_stratified_into_train_val_test(\n",
    "    df_input,\n",
    "    stratify_colname=\"y\",\n",
    "    frac_train=0.6,\n",
    "    frac_val=0.15,\n",
    "    frac_test=0.25,\n",
    "    random_state=None,\n",
    ") -> Tuple[DataFrame, DataFrame, DataFrame, DataFrame, DataFrame, DataFrame]:\n",
    "    \"\"\"\n",
    "    Splits a Pandas dataframe into three subsets (train, val, and test)\n",
    "    following fractional ratios provided by the user, where each subset is\n",
    "    stratified by the values in a specific column (that is, each subset has\n",
    "    the same relative frequency of the values in the column). It performs this\n",
    "    splitting by running train_test_split() twice.\n",
    "\n",
    "    Parameters\n",
    "    ----------\n",
    "    df_input : Pandas dataframe\n",
    "        Input dataframe to be split.\n",
    "    stratify_colname : str\n",
    "        The name of the column that will be used for stratification. Usually\n",
    "        this column would be for the label.\n",
    "    frac_train : float\n",
    "    frac_val   : float\n",
    "    frac_test  : float\n",
    "        The ratios with which the dataframe will be split into train, val, and\n",
    "        test data. The values should be expressed as float fractions and should\n",
    "        sum to 1.0.\n",
    "    random_state : int, None, or RandomStateInstance\n",
    "        Value to be passed to train_test_split().\n",
    "\n",
    "    Returns\n",
    "    -------\n",
    "    df_train, df_val, df_test :\n",
    "        Dataframes containing the three splits.\n",
    "    \"\"\"\n",
    "\n",
    "    if frac_train + frac_val + frac_test != 1.0:\n",
    "        raise ValueError(\n",
    "            \"fractions %f, %f, %f do not add up to 1.0\"\n",
    "            % (frac_train, frac_val, frac_test)\n",
    "        )\n",
    "\n",
    "    if stratify_colname not in df_input.columns:\n",
    "        raise ValueError(\"%s is not a column in the dataframe\" % (stratify_colname))\n",
    "\n",
    "    X = df_input  # Contains all columns.\n",
    "    y = df_input[\n",
    "        [stratify_colname]\n",
    "    ]  # Dataframe of just the column on which to stratify.\n",
    "\n",
    "    # Split original dataframe into train and temp dataframes.\n",
    "    df_train, df_temp, y_train, y_temp = train_test_split(\n",
    "        X, y, stratify=y, test_size=(1.0 - frac_train), random_state=random_state\n",
    "    )\n",
    "\n",
    "    if frac_val <= 0:\n",
    "        assert len(df_input) == len(df_train) + len(df_temp)\n",
    "        return df_train, pd.DataFrame(), df_temp, y_train, pd.DataFrame(), y_temp\n",
    "\n",
    "    # Split the temp dataframe into val and test dataframes.\n",
    "    relative_frac_test = frac_test / (frac_val + frac_test)\n",
    "    df_val, df_test, y_val, y_test = train_test_split(\n",
    "        df_temp,\n",
    "        y_temp,\n",
    "        stratify=y_temp,\n",
    "        test_size=relative_frac_test,\n",
    "        random_state=random_state,\n",
    "    )\n",
    "\n",
    "    assert len(df_input) == len(df_train) + len(df_val) + len(df_test)\n",
    "    return df_train, df_val, df_test, y_train, y_val, y_test\n",
    "\n",
    "df = pd.read_csv(\"C:/Users/ekrosz/Desktop/vehicles.csv\", sep = ',', encoding = \"windows-1251\")\n",
    "\n",
    "df.info()\n",
    "display(df.shape)\n",
    "df.head()\n",
    "\n",
    "display(df.isnull().any())\n",
    "\n",
    "df[\"OwnersByPts\"] = df[\"OwnersByPts\"].fillna(1)\n",
    "display(df.isnull().any())\n",
    "\n",
    "display(df.OwnersByPts.value_counts())\n",
    "display()\n",
    "\n",
    "data = df[[\"OwnersByPts\", \"IssueYear\", \"Price\"]].copy()\n",
    "\n",
    "df_train, df_val, df_test, y_train, y_val, y_test = split_stratified_into_train_val_test(\n",
    "   data, stratify_colname=\"OwnersByPts\", frac_train=0.60, frac_val=0.20, frac_test=0.20\n",
    ")\n",
    "\n",
    "display(\"Обучающая выборка: \", df_train.shape)\n",
    "display(df_train.OwnersByPts.value_counts())\n",
    "\n",
    "display(\"Контрольная выборка: \", df_val.shape)\n",
    "display(df_val.OwnersByPts.value_counts())\n",
    "\n",
    "display(\"Тестовая выборка: \", df_test.shape)\n",
    "display(df_test.OwnersByPts.value_counts())\n",
    "\n",
    "display(\"Обучающая выборка: \", df_train.shape)\n",
    "display(df_train.OwnersByPts.value_counts())\n",
    "\n",
    "ada = ADASYN()\n",
    "X_resampled, y_resampled = ada.fit_resample(df_train, df_train[\"OwnersByPts\"])\n",
    "df_train_adasyn = pd.DataFrame(X_resampled)\n",
    "\n",
    "display(\"Обучающая выборка после oversampling: \", df_train_adasyn.shape)\n",
    "display(df_train_adasyn.OwnersByPts.value_counts())\n",
    "\n",
    "rus = RandomUnderSampler(random_state=42)\n",
    "X_resampled, y_resampled = rus.fit_resample(df_train, df_train[\"OwnersByPts\"])\n",
    "df_train_rus = pd.DataFrame(X_resampled)\n",
    "\n",
    "display(\"Обучающая выборка после undersampling: \", df_train_rus.shape)\n",
    "display(df_train_rus.OwnersByPts.value_counts())\n"
   ]
  },
  {
   "cell_type": "code",
   "execution_count": null,
   "id": "b9f6f603-8b8a-4439-9935-bc16b756d31d",
   "metadata": {},
   "outputs": [],
   "source": []
  }
 ],
 "metadata": {
  "kernelspec": {
   "display_name": "Python 3 (ipykernel)",
   "language": "python",
   "name": "python3"
  },
  "language_info": {
   "codemirror_mode": {
    "name": "ipython",
    "version": 3
   },
   "file_extension": ".py",
   "mimetype": "text/x-python",
   "name": "python",
   "nbconvert_exporter": "python",
   "pygments_lexer": "ipython3",
   "version": "3.13.2"
  }
 },
 "nbformat": 4,
 "nbformat_minor": 5
}
